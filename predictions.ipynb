{
 "cells": [
  {
   "cell_type": "code",
   "execution_count": 1,
   "metadata": {},
   "outputs": [
    {
     "name": "stdout",
     "output_type": "stream",
     "text": [
      "hdf5 is not supported on this machine (please install/reinstall h5py for optimal experience)\n",
      "Loading previous char_idx\n",
      "WARNING:tensorflow:From /Library/Frameworks/Python.framework/Versions/3.6/lib/python3.6/site-packages/tflearn/objectives.py:66: calling reduce_sum (from tensorflow.python.ops.math_ops) with keep_dims is deprecated and will be removed in a future version.\n",
      "Instructions for updating:\n",
      "keep_dims is deprecated, use keepdims instead\n"
     ]
    }
   ],
   "source": [
    "from __future__ import absolute_import, division, print_function\n",
    "\n",
    "import os\n",
    "import pickle\n",
    "from six.moves import urllib\n",
    "\n",
    "import tflearn\n",
    "from tflearn.data_utils import *\n",
    "\n",
    "char_idx_file = 'char_idx.pickle'\n",
    "maxlen = 30\n",
    "print('Loading previous char_idx')\n",
    "char_idx = pickle.load(open(char_idx_file, 'rb'))\n",
    "\n",
    "g = tflearn.input_data([None, maxlen, len(char_idx)])\n",
    "g = tflearn.lstm(g, 512, return_seq=True)\n",
    "g = tflearn.dropout(g, 0.5)\n",
    "g = tflearn.lstm(g, 512, return_seq=True)\n",
    "g = tflearn.dropout(g, 0.5)\n",
    "g = tflearn.lstm(g, 512)\n",
    "g = tflearn.dropout(g, 0.5)\n",
    "g = tflearn.fully_connected(g, len(char_idx), activation='softmax')\n",
    "g = tflearn.regression(g, optimizer='adam', loss='categorical_crossentropy',\n",
    "                       learning_rate=0.001)\n",
    "\n",
    "m = tflearn.SequenceGenerator(g, dictionary=char_idx,\n",
    "                              seq_maxlen=maxlen,\n",
    "                              clip_gradients=5.0)\n",
    "\n",
    "\n"
   ]
  },
  {
   "cell_type": "code",
   "execution_count": 14,
   "metadata": {},
   "outputs": [
    {
     "name": "stdout",
     "output_type": "stream",
     "text": [
      "INFO:tensorflow:Restoring parameters from /Users/research01/Documents/github/CakmaSairOrganization/cakmasair/8.tflearn\n"
     ]
    }
   ],
   "source": [
    "m.load(\"cakmasair/8.tflearn\")"
   ]
  },
  {
   "cell_type": "code",
   "execution_count": 19,
   "metadata": {},
   "outputs": [
    {
     "data": {
      "text/plain": [
       "30"
      ]
     },
     "execution_count": 19,
     "metadata": {},
     "output_type": "execute_result"
    }
   ],
   "source": [
    "seed = \"<start> Çatma kurban olayim ey\"\n",
    "len(seed)"
   ]
  },
  {
   "cell_type": "code",
   "execution_count": 20,
   "metadata": {},
   "outputs": [
    {
     "name": "stderr",
     "output_type": "stream",
     "text": [
      "/Library/Frameworks/Python.framework/Versions/3.6/lib/python3.6/site-packages/tflearn/models/generator.py:337: RuntimeWarning: divide by zero encountered in log\n",
      "  a = np.log(a) / temperature\n"
     ]
    },
    {
     "name": "stdout",
     "output_type": "stream",
     "text": [
      "<start> Çatma kurban olayim ey dağlar \n",
      "Sen de bir daha \n",
      "Yaratır kuruluyor bir yanında\n",
      "Bir tanıyan bir başka bir derinlik bir kanın bir karşından\n",
      "<end>\n",
      "\n",
      "<start>\n",
      "Karanlık bir başka de bağırır yaşamak \n",
      "Bir kafesi yanından bir bir kadar karanlığın \n",
      "genç anlamak istiyorum\n",
      "yalnızlığı düşünür kalbinin kendi karanlığında bir derin bir karanlık gibi\n",
      "Bütün karanlığında bir ağır bir aşk bir sevgili \n",
      "Bir beni bir kadının karanlıklarında seni gören günleri belli seni\n",
      "Bir kadının ayakları kadınlar \n",
      "Başka bir kara güneş karşısında kalır \n",
      "B\n"
     ]
    }
   ],
   "source": [
    "print(m.generate(500, temperature=0.45, seq_seed=seed))"
   ]
  },
  {
   "cell_type": "code",
   "execution_count": 22,
   "metadata": {},
   "outputs": [
    {
     "name": "stderr",
     "output_type": "stream",
     "text": [
      "/Library/Frameworks/Python.framework/Versions/3.6/lib/python3.6/site-packages/tflearn/models/generator.py:337: RuntimeWarning: divide by zero encountered in log\n",
      "  a = np.log(a) / temperature\n"
     ]
    },
    {
     "name": "stdout",
     "output_type": "stream",
     "text": [
      "<start> Çatma kurban olayim ey dağlar \n",
      "Beni sevdiğim kurayı ki \n",
      "sağlar koltuklarda bıraksın \n",
      "deniz karşısındaki tepeler \n",
      "köküyle olan için karşısında gidip çıkarırken \n",
      "dağlar karanlık da kendini toprağımız\n",
      "Acı maparak içinde her kamsın gururun\n",
      "Senin ölü yapışan daha sinema\n",
      "Gerçek için bir bak bileyim \n",
      "Yeni kalmış kızı verdiğini her taşların o kadar misali eder beni gördüm bir ama \n",
      "  Benim ben yanar bu senin gelir\n",
      "Gel gel gel güzel\n",
      "Tutuşurken iyi hey\n",
      "Ben bu yiğidim yine kaldı sonra\n",
      "Ben gecenin sevdiğini görülen\n",
      "Sana çıkacak g\n"
     ]
    }
   ],
   "source": [
    "print(m.generate(500, temperature=0.64, seq_seed=seed))"
   ]
  },
  {
   "cell_type": "code",
   "execution_count": null,
   "metadata": {},
   "outputs": [],
   "source": []
  }
 ],
 "metadata": {
  "kernelspec": {
   "display_name": "Python 3",
   "language": "python",
   "name": "python3"
  },
  "language_info": {
   "codemirror_mode": {
    "name": "ipython",
    "version": 3
   },
   "file_extension": ".py",
   "mimetype": "text/x-python",
   "name": "python",
   "nbconvert_exporter": "python",
   "pygments_lexer": "ipython3",
   "version": "3.6.4"
  }
 },
 "nbformat": 4,
 "nbformat_minor": 2
}
