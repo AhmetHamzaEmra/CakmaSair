{
 "cells": [
  {
   "cell_type": "code",
   "execution_count": 1,
   "metadata": {
    "colab": {
     "autoexec": {
      "startup": false,
      "wait_interval": 0
     }
    },
    "colab_type": "code",
    "id": "WD3bw2Bt4FZ_"
   },
   "outputs": [],
   "source": [
    "from io import StringIO\n",
    "import sys, getopt\n",
    "import pandas as pd\n",
    "import numpy as np\n",
    "import re\n",
    "import os"
   ]
  },
  {
   "cell_type": "code",
   "execution_count": 2,
   "metadata": {
    "colab": {
     "autoexec": {
      "startup": false,
      "wait_interval": 0
     }
    },
    "colab_type": "code",
    "id": "Be6sG9f44Iwm"
   },
   "outputs": [],
   "source": [
    "import glob\n",
    "text = \"\"\n",
    "for i in glob.glob(\"Data/\" + \"*.txt\"):\n",
    "    with open(i, 'r') as f:\n",
    "        text += f.read()"
   ]
  },
  {
   "cell_type": "code",
   "execution_count": 3,
   "metadata": {
    "colab": {
     "autoexec": {
      "startup": false,
      "wait_interval": 0
     },
     "base_uri": "https://localhost:8080/",
     "height": 55,
     "output_extras": [
      {
       "item_id": 1
      }
     ]
    },
    "colab_type": "code",
    "executionInfo": {
     "elapsed": 272,
     "status": "ok",
     "timestamp": 1519254938330,
     "user": {
      "displayName": "Bedir Tapkan",
      "photoUrl": "//lh3.googleusercontent.com/-YY5T-RV-JOA/AAAAAAAAAAI/AAAAAAAAQbk/ZHBYuPJ8lfE/s50-c-k-no/photo.jpg",
      "userId": "100984590731674680301"
     },
     "user_tz": 360
    },
    "id": "3vc_9diU4hOe",
    "outputId": "3d5986e0-cbf5-47df-b575-091eefad83e4"
   },
   "outputs": [
    {
     "data": {
      "text/plain": [
       "5667777"
      ]
     },
     "execution_count": 3,
     "metadata": {},
     "output_type": "execute_result"
    }
   ],
   "source": [
    "len(text)"
   ]
  },
  {
   "cell_type": "code",
   "execution_count": 4,
   "metadata": {
    "colab": {
     "autoexec": {
      "startup": false,
      "wait_interval": 0
     }
    },
    "colab_type": "code",
    "id": "UR6iQdpT4itt"
   },
   "outputs": [],
   "source": [
    "alfabe = 'çığöşüâqwertyuioplkjhgfdsazxcvbnmÇIĞÖŞÜÂQWERTYUIOPLKJHGFDSAZXCVBNM'\n",
    "alfabe = list(alfabe)\n",
    "alfabe.append(\"<start>\")\n",
    "alfabe.append(\"<end>\")\n",
    "alfabe.append(\"\\n\")\n",
    "alfabe.append(\"<\")\n",
    "alfabe.append(\">\")\n",
    "alfabe.append(\"\\\\\")\n",
    "alfabe.append(\" \")"
   ]
  },
  {
   "cell_type": "code",
   "execution_count": 5,
   "metadata": {
    "colab": {
     "autoexec": {
      "startup": false,
      "wait_interval": 0
     }
    },
    "colab_type": "code",
    "id": "WUAGiuKM6HI_"
   },
   "outputs": [],
   "source": [
    "chars_set = set(text)\n",
    "for i in chars_set:\n",
    "    if i not in alfabe:\n",
    "        text = text.replace(i, \"\")"
   ]
  },
  {
   "cell_type": "code",
   "execution_count": 6,
   "metadata": {
    "colab": {
     "autoexec": {
      "startup": false,
      "wait_interval": 0
     }
    },
    "colab_type": "code",
    "id": "r70O_ogj6J1_"
   },
   "outputs": [],
   "source": [
    "text = text.replace(\"\\n\", \" \\n \")\n",
    "text = text.replace(\"<start>\", \" <start> \")\n",
    "text = text.replace(\"<end>\", \" <end> \")"
   ]
  },
  {
   "cell_type": "code",
   "execution_count": 7,
   "metadata": {
    "colab": {
     "autoexec": {
      "startup": false,
      "wait_interval": 0
     }
    },
    "colab_type": "code",
    "id": "qKHvHjly6Nnm"
   },
   "outputs": [],
   "source": [
    "for k in range(100):\n",
    "    text = text.replace(\"  \", \" \")\n",
    "    text = text.replace(\"   \", \" \")\n",
    "    text = text.replace(\"    \", \" \")"
   ]
  },
  {
   "cell_type": "code",
   "execution_count": 8,
   "metadata": {
    "colab": {
     "autoexec": {
      "startup": false,
      "wait_interval": 0
     }
    },
    "colab_type": "code",
    "id": "z3Jo9zna6O1e"
   },
   "outputs": [],
   "source": [
    "text = text.replace(\"<start>\", \"<siir> <start>\")\n",
    "text = text.replace(\"<end>\", \"<end> <zero> <zero> <zero> <zero>\")"
   ]
  },
  {
   "cell_type": "code",
   "execution_count": 9,
   "metadata": {
    "colab": {
     "autoexec": {
      "startup": false,
      "wait_interval": 0
     }
    },
    "colab_type": "code",
    "id": "6-81VBrh6QKt"
   },
   "outputs": [],
   "source": [
    "text = text.split(\"<siir>\")"
   ]
  },
  {
   "cell_type": "code",
   "execution_count": 10,
   "metadata": {
    "colab": {
     "autoexec": {
      "startup": false,
      "wait_interval": 0
     }
    },
    "colab_type": "code",
    "id": "5COtrNqh6R79"
   },
   "outputs": [],
   "source": [
    "for i in range(len(text)):\n",
    "    text[i] = text[i].split(\" \")"
   ]
  },
  {
   "cell_type": "code",
   "execution_count": 12,
   "metadata": {
    "colab": {
     "autoexec": {
      "startup": false,
      "wait_interval": 0
     }
    },
    "colab_type": "code",
    "id": "eyVjPML16j3z"
   },
   "outputs": [],
   "source": [
    "import gensim.models.word2vec as w2v\n",
    "import multiprocessing\n",
    "num_features = 300\n",
    "min_word_count = 1\n",
    "num_workers = multiprocessing.cpu_count()\n",
    "context_size = 7\n",
    "downsampling = 1e-3\n",
    "seed = 1\n",
    "\n",
    "w2vmodel = w2v.Word2Vec(\n",
    "    sg=1,\n",
    "    seed=seed,\n",
    "    workers=num_workers,\n",
    "    size=num_features,\n",
    "    min_count=min_word_count,\n",
    "    window=context_size,\n",
    "    sample=downsampling\n",
    ")"
   ]
  },
  {
   "cell_type": "code",
   "execution_count": 13,
   "metadata": {
    "colab": {
     "autoexec": {
      "startup": false,
      "wait_interval": 0
     }
    },
    "colab_type": "code",
    "id": "bhyN3-FU6mjb"
   },
   "outputs": [],
   "source": [
    "w2vmodel.build_vocab(text)"
   ]
  },
  {
   "cell_type": "code",
   "execution_count": 14,
   "metadata": {
    "colab": {
     "autoexec": {
      "startup": false,
      "wait_interval": 0
     },
     "base_uri": "https://localhost:8080/",
     "height": 55,
     "output_extras": [
      {
       "item_id": 1
      }
     ]
    },
    "colab_type": "code",
    "executionInfo": {
     "elapsed": 250903,
     "status": "ok",
     "timestamp": 1519255208410,
     "user": {
      "displayName": "Bedir Tapkan",
      "photoUrl": "//lh3.googleusercontent.com/-YY5T-RV-JOA/AAAAAAAAAAI/AAAAAAAAQbk/ZHBYuPJ8lfE/s50-c-k-no/photo.jpg",
      "userId": "100984590731674680301"
     },
     "user_tz": 360
    },
    "id": "Plu9FHmR6piy",
    "outputId": "1d939e45-6c2e-4129-b53c-b2a79f8f017f"
   },
   "outputs": [
    {
     "data": {
      "text/plain": [
       "(15352169, 20134540)"
      ]
     },
     "execution_count": 14,
     "metadata": {},
     "output_type": "execute_result"
    }
   ],
   "source": [
    "w2vmodel.train(text, total_examples=w2vmodel.corpus_count, epochs=20)"
   ]
  },
  {
   "cell_type": "code",
   "execution_count": 15,
   "metadata": {
    "colab": {
     "autoexec": {
      "startup": false,
      "wait_interval": 0
     },
     "base_uri": "https://localhost:8080/",
     "height": 211,
     "output_extras": [
      {
       "item_id": 1
      }
     ]
    },
    "colab_type": "code",
    "executionInfo": {
     "elapsed": 614,
     "status": "ok",
     "timestamp": 1519255209057,
     "user": {
      "displayName": "Bedir Tapkan",
      "photoUrl": "//lh3.googleusercontent.com/-YY5T-RV-JOA/AAAAAAAAAAI/AAAAAAAAQbk/ZHBYuPJ8lfE/s50-c-k-no/photo.jpg",
      "userId": "100984590731674680301"
     },
     "user_tz": 360
    },
    "id": "rFnHR5nT6qlC",
    "outputId": "a8c0b216-31e1-4e19-f4c2-30384a6f68f4"
   },
   "outputs": [
    {
     "data": {
      "text/plain": [
       "[('', 0.7671248912811279),\n",
       " ('I', 0.43655478954315186),\n",
       " ('mevsiminde', 0.3820810616016388),\n",
       " ('tutunuşu', 0.34387272596359253),\n",
       " ('Yeşilçiçeği', 0.34146276116371155),\n",
       " ('bulutlarıyla', 0.33917298913002014),\n",
       " ('sarsılmadan', 0.33483457565307617),\n",
       " ('Günlerden', 0.3341832160949707),\n",
       " ('Saide', 0.3322668969631195),\n",
       " ('Kanağacı', 0.33092260360717773)]"
      ]
     },
     "execution_count": 15,
     "metadata": {},
     "output_type": "execute_result"
    }
   ],
   "source": [
    "w2vmodel.wv.most_similar('<start>', topn=10)"
   ]
  },
  {
   "cell_type": "code",
   "execution_count": 16,
   "metadata": {
    "colab": {
     "autoexec": {
      "startup": false,
      "wait_interval": 0
     },
     "base_uri": "https://localhost:8080/",
     "height": 72,
     "output_extras": [
      {
       "item_id": 1
      }
     ]
    },
    "colab_type": "code",
    "executionInfo": {
     "elapsed": 869,
     "status": "ok",
     "timestamp": 1519255209953,
     "user": {
      "displayName": "Bedir Tapkan",
      "photoUrl": "//lh3.googleusercontent.com/-YY5T-RV-JOA/AAAAAAAAAAI/AAAAAAAAQbk/ZHBYuPJ8lfE/s50-c-k-no/photo.jpg",
      "userId": "100984590731674680301"
     },
     "user_tz": 360
    },
    "id": "deDb_qpe6sVS",
    "outputId": "4f819892-4176-4d05-fbe9-0d3c2c7634fe"
   },
   "outputs": [
    {
     "name": "stderr",
     "output_type": "stream",
     "text": [
      "/usr/local/lib/python3.6/site-packages/ipykernel_launcher.py:1: DeprecationWarning: Call to deprecated `__getitem__` (Method will be removed in 4.0.0, use self.wv.__getitem__() instead).\n",
      "  \"\"\"Entry point for launching an IPython kernel.\n"
     ]
    }
   ],
   "source": [
    "word_to_vec_map = w2vmodel[w2vmodel.wv.vocab]"
   ]
  },
  {
   "cell_type": "code",
   "execution_count": 17,
   "metadata": {
    "colab": {
     "autoexec": {
      "startup": false,
      "wait_interval": 0
     }
    },
    "colab_type": "code",
    "id": "bfan7T3r6x4x"
   },
   "outputs": [],
   "source": [
    "vocab = w2vmodel.wv.vocab"
   ]
  },
  {
   "cell_type": "code",
   "execution_count": 18,
   "metadata": {
    "colab": {
     "autoexec": {
      "startup": false,
      "wait_interval": 0
     }
    },
    "colab_type": "code",
    "id": "-oSxUBPc74BC"
   },
   "outputs": [],
   "source": [
    "word_to_index={}\n",
    "index_to_word = {}\n",
    "for i, w in enumerate(vocab):\n",
    "    word_to_index[w] = i\n",
    "    index_to_word[i] = w"
   ]
  },
  {
   "cell_type": "code",
   "execution_count": 19,
   "metadata": {
    "colab": {
     "autoexec": {
      "startup": false,
      "wait_interval": 0
     },
     "base_uri": "https://localhost:8080/",
     "height": 55,
     "output_extras": [
      {
       "item_id": 1
      }
     ]
    },
    "colab_type": "code",
    "executionInfo": {
     "elapsed": 278,
     "status": "ok",
     "timestamp": 1519255211035,
     "user": {
      "displayName": "Bedir Tapkan",
      "photoUrl": "//lh3.googleusercontent.com/-YY5T-RV-JOA/AAAAAAAAAAI/AAAAAAAAQbk/ZHBYuPJ8lfE/s50-c-k-no/photo.jpg",
      "userId": "100984590731674680301"
     },
     "user_tz": 360
    },
    "id": "F4J8xptE60mX",
    "outputId": "0d80d21d-f2ed-4774-9c29-c99f3b8f7553"
   },
   "outputs": [
    {
     "data": {
      "text/plain": [
       "812"
      ]
     },
     "execution_count": 19,
     "metadata": {},
     "output_type": "execute_result"
    }
   ],
   "source": [
    "word_to_index['bu']"
   ]
  },
  {
   "cell_type": "code",
   "execution_count": 20,
   "metadata": {
    "colab": {
     "autoexec": {
      "startup": false,
      "wait_interval": 0
     }
    },
    "colab_type": "code",
    "id": "EDatB4cb61AI"
   },
   "outputs": [
    {
     "name": "stderr",
     "output_type": "stream",
     "text": [
      "/usr/local/lib/python3.6/site-packages/h5py/__init__.py:36: FutureWarning: Conversion of the second argument of issubdtype from `float` to `np.floating` is deprecated. In future, it will be treated as `np.float64 == np.dtype(float).type`.\n",
      "  from ._conv import register_converters as _register_converters\n"
     ]
    }
   ],
   "source": [
    "import tflearn\n",
    "from tflearn.data_utils import *\n",
    "import tensorflow as tf "
   ]
  },
  {
   "cell_type": "code",
   "execution_count": 21,
   "metadata": {
    "colab": {
     "autoexec": {
      "startup": false,
      "wait_interval": 0
     }
    },
    "colab_type": "code",
    "id": "IjB8Xb5r61C1"
   },
   "outputs": [],
   "source": [
    "max_len = 5"
   ]
  },
  {
   "cell_type": "code",
   "execution_count": 22,
   "metadata": {
    "colab": {
     "autoexec": {
      "startup": false,
      "wait_interval": 0
     }
    },
    "colab_type": "code",
    "id": "XWLJBA0E61FZ"
   },
   "outputs": [],
   "source": [
    "g = tflearn.input_data([None, max_len, num_features])\n",
    "g = tflearn.lstm(g, 512, return_seq=True)\n",
    "g = tflearn.dropout(g, 0.5)\n",
    "g = tflearn.lstm(g, 512, return_seq=True)\n",
    "g = tflearn.dropout(g, 0.5)\n",
    "g = tflearn.lstm(g, 512)\n",
    "g = tflearn.dropout(g, 0.5)\n",
    "g = tflearn.fully_connected(g, num_features, activation='linear')\n",
    "g = tflearn.regression(g, optimizer='adam', loss='mean_square',\n",
    "                       learning_rate=0.001)"
   ]
  },
  {
   "cell_type": "code",
   "execution_count": 23,
   "metadata": {
    "colab": {
     "autoexec": {
      "startup": false,
      "wait_interval": 0
     },
     "base_uri": "https://localhost:8080/",
     "height": 124,
     "output_extras": [
      {
       "item_id": 92
      },
      {
       "item_id": 140
      }
     ]
    },
    "colab_type": "code",
    "executionInfo": {
     "elapsed": 39667,
     "status": "ok",
     "timestamp": 1519255252151,
     "user": {
      "displayName": "Bedir Tapkan",
      "photoUrl": "//lh3.googleusercontent.com/-YY5T-RV-JOA/AAAAAAAAAAI/AAAAAAAAQbk/ZHBYuPJ8lfE/s50-c-k-no/photo.jpg",
      "userId": "100984590731674680301"
     },
     "user_tz": 360
    },
    "id": "Ra58i1Dn61Hx",
    "outputId": "f326a885-0234-4428-d480-67e2b80077fd"
   },
   "outputs": [
    {
     "name": "stderr",
     "output_type": "stream",
     "text": [
      "  0%|          | 0/7387 [00:00<?, ?it/s]/usr/local/lib/python3.6/site-packages/ipykernel_launcher.py:11: DeprecationWarning: Call to deprecated `__getitem__` (Method will be removed in 4.0.0, use self.wv.__getitem__() instead).\n",
      "  # This is added back by InteractiveShellApp.init_path()\n",
      "/usr/local/lib/python3.6/site-packages/ipykernel_launcher.py:14: DeprecationWarning: Call to deprecated `__getitem__` (Method will be removed in 4.0.0, use self.wv.__getitem__() instead).\n",
      "  \n",
      "100%|██████████| 7387/7387 [00:31<00:00, 231.80it/s]\n"
     ]
    }
   ],
   "source": [
    "from tqdm import tqdm\n",
    "\n",
    "trainX = []\n",
    "trainY = []\n",
    "for i in tqdm(text):\n",
    "    if len(i) > 6:\n",
    "        for k in range(len(i)-6):\n",
    "            \n",
    "            a = []\n",
    "            for j in range(k,k+5):\n",
    "                a.append(w2vmodel[i[j]])\n",
    "            trainX.append(a)\n",
    "            \n",
    "            b= w2vmodel[i[k+5]]\n",
    "            \n",
    "            trainY.append(b)"
   ]
  },
  {
   "cell_type": "code",
   "execution_count": 24,
   "metadata": {
    "colab": {
     "autoexec": {
      "startup": false,
      "wait_interval": 0
     },
     "base_uri": "https://localhost:8080/",
     "height": 55,
     "output_extras": [
      {
       "item_id": 1
      }
     ]
    },
    "colab_type": "code",
    "executionInfo": {
     "elapsed": 318,
     "status": "ok",
     "timestamp": 1519255252500,
     "user": {
      "displayName": "Bedir Tapkan",
      "photoUrl": "//lh3.googleusercontent.com/-YY5T-RV-JOA/AAAAAAAAAAI/AAAAAAAAQbk/ZHBYuPJ8lfE/s50-c-k-no/photo.jpg",
      "userId": "100984590731674680301"
     },
     "user_tz": 360
    },
    "id": "ZFM7Uss18XR9",
    "outputId": "0590fde1-ea70-4dae-fdcd-253e500c3304"
   },
   "outputs": [
    {
     "data": {
      "text/plain": [
       "962409"
      ]
     },
     "execution_count": 24,
     "metadata": {},
     "output_type": "execute_result"
    }
   ],
   "source": [
    "len(trainX)"
   ]
  },
  {
   "cell_type": "code",
   "execution_count": 25,
   "metadata": {
    "colab": {
     "autoexec": {
      "startup": false,
      "wait_interval": 0
     }
    },
    "colab_type": "code",
    "id": "WZp1dcZD61J6"
   },
   "outputs": [],
   "source": [
    "trainX = np.array(trainX)"
   ]
  },
  {
   "cell_type": "code",
   "execution_count": 26,
   "metadata": {
    "colab": {
     "autoexec": {
      "startup": false,
      "wait_interval": 0
     }
    },
    "colab_type": "code",
    "id": "PDYY-vNV61MQ"
   },
   "outputs": [],
   "source": [
    "trainY = np.array(trainY)"
   ]
  },
  {
   "cell_type": "code",
   "execution_count": 27,
   "metadata": {
    "colab": {
     "autoexec": {
      "startup": false,
      "wait_interval": 0
     },
     "base_uri": "https://localhost:8080/",
     "height": 34,
     "output_extras": [
      {
       "item_id": 1
      }
     ]
    },
    "colab_type": "code",
    "executionInfo": {
     "elapsed": 276,
     "status": "ok",
     "timestamp": 1519245650380,
     "user": {
      "displayName": "Bedir Tapkan",
      "photoUrl": "//lh3.googleusercontent.com/-YY5T-RV-JOA/AAAAAAAAAAI/AAAAAAAAQbk/ZHBYuPJ8lfE/s50-c-k-no/photo.jpg",
      "userId": "100984590731674680301"
     },
     "user_tz": 360
    },
    "id": "FpWnW4LK61OX",
    "outputId": "b3953350-fe1f-4cde-ac30-e5068e017695"
   },
   "outputs": [
    {
     "data": {
      "text/plain": [
       "((962409, 5, 300), (962409, 300))"
      ]
     },
     "execution_count": 27,
     "metadata": {},
     "output_type": "execute_result"
    }
   ],
   "source": [
    "trainX.shape, trainY.shape"
   ]
  },
  {
   "cell_type": "code",
   "execution_count": null,
   "metadata": {
    "colab": {
     "autoexec": {
      "startup": false,
      "wait_interval": 0
     }
    },
    "colab_type": "code",
    "id": "x4WSwtXu61QV"
   },
   "outputs": [],
   "source": [
    "model = tflearn.DNN(g, tensorboard_verbose=0)"
   ]
  },
  {
   "cell_type": "code",
   "execution_count": null,
   "metadata": {
    "colab": {
     "autoexec": {
      "startup": false,
      "wait_interval": 0
     },
     "base_uri": "https://localhost:8080/",
     "output_extras": [
      {
       "item_id": 1
      }
     ]
    },
    "colab_type": "code",
    "id": "QorVUkms61SV",
    "outputId": "c44d2cfb-747f-43c4-d73f-453f977da14c"
   },
   "outputs": [
    {
     "name": "stdout",
     "output_type": "stream",
     "text": [
      "Training Step: 13533  | total loss: \u001b[1m\u001b[32m0.07436\u001b[0m\u001b[0m | time: 12688.225s\n",
      "\u001b[2K\r",
      "| Adam | epoch: 001 | loss: 0.07436 -- iter: 866112/866168\n"
     ]
    }
   ],
   "source": [
    "for step in range(100):\n",
    "  model.fit(trainX, trainY, validation_set=0.1, n_epoch=1, run_id='siir')\n",
    "  if step % 5 == 0:\n",
    "    model.save(str(step) + '2.tflearn')"
   ]
  },
  {
   "cell_type": "code",
   "execution_count": 0,
   "metadata": {
    "colab": {
     "autoexec": {
      "startup": false,
      "wait_interval": 0
     }
    },
    "colab_type": "code",
    "id": "UAcqDBsf7IKJ"
   },
   "outputs": [],
   "source": [
    "prediction = model.predict(trainX)[0]"
   ]
  },
  {
   "cell_type": "code",
   "execution_count": 0,
   "metadata": {
    "colab": {
     "autoexec": {
      "startup": false,
      "wait_interval": 0
     }
    },
    "colab_type": "code",
    "id": "qd6nfWpd7IUA"
   },
   "outputs": [],
   "source": [
    "w2vmodel.wv.similar_by_vector(prediction)"
   ]
  },
  {
   "cell_type": "code",
   "execution_count": 0,
   "metadata": {
    "colab": {
     "autoexec": {
      "startup": false,
      "wait_interval": 0
     }
    },
    "colab_type": "code",
    "id": "hARE4sAI7IXG"
   },
   "outputs": [],
   "source": [
    "w2vmodel.wv.similar_by_vector(trainX[0][0],topn=1)[0][0], w2vmodel.wv.similar_by_vector(trainX[0][1],topn=1)"
   ]
  },
  {
   "cell_type": "code",
   "execution_count": 0,
   "metadata": {
    "colab": {
     "autoexec": {
      "startup": false,
      "wait_interval": 0
     }
    },
    "colab_type": "code",
    "id": "h5keAMC17IZx"
   },
   "outputs": [],
   "source": [
    "for i in range(5):\n",
    "    print(w2vmodel.wv.similar_by_vector(trainX[0][i],topn=1)[0][0])"
   ]
  }
 ],
 "metadata": {
  "accelerator": "GPU",
  "colab": {
   "default_view": {},
   "name": "Untitled0.ipynb",
   "provenance": [],
   "version": "0.3.2",
   "views": {}
  },
  "kernelspec": {
   "display_name": "Python 3",
   "language": "python",
   "name": "python3"
  },
  "language_info": {
   "codemirror_mode": {
    "name": "ipython",
    "version": 3
   },
   "file_extension": ".py",
   "mimetype": "text/x-python",
   "name": "python",
   "nbconvert_exporter": "python",
   "pygments_lexer": "ipython3",
   "version": "3.6.4"
  }
 },
 "nbformat": 4,
 "nbformat_minor": 1
}
